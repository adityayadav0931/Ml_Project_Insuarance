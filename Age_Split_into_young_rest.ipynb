{
 "cells": [
  {
   "cell_type": "code",
   "execution_count": 1,
   "id": "3a2133a9",
   "metadata": {},
   "outputs": [],
   "source": [
    "import pandas as pd"
   ]
  },
  {
   "cell_type": "code",
   "execution_count": 2,
   "id": "11ce3778",
   "metadata": {},
   "outputs": [],
   "source": [
    "df=pd.read_excel(\"premiums.xlsx\")"
   ]
  },
  {
   "cell_type": "code",
   "execution_count": 4,
   "id": "592a4e5c",
   "metadata": {},
   "outputs": [
    {
     "data": {
      "text/plain": [
       "((20096, 13), (29904, 13))"
      ]
     },
     "execution_count": 4,
     "metadata": {},
     "output_type": "execute_result"
    }
   ],
   "source": [
    "df_young=df[df.Age<=25]\n",
    "df_rest=df[df.Age>25]\n",
    "\n",
    "df_young.shape,df_rest.shape"
   ]
  },
  {
   "cell_type": "code",
   "execution_count": 5,
   "id": "d064e79c",
   "metadata": {},
   "outputs": [],
   "source": [
    "df_young.to_excel(\"young_age.xlsx\",index=False)\n",
    "df_rest.to_excel(\"rest_age.xlsx\",index=False)"
   ]
  }
 ],
 "metadata": {
  "kernelspec": {
   "display_name": "base",
   "language": "python",
   "name": "python3"
  },
  "language_info": {
   "codemirror_mode": {
    "name": "ipython",
    "version": 3
   },
   "file_extension": ".py",
   "mimetype": "text/x-python",
   "name": "python",
   "nbconvert_exporter": "python",
   "pygments_lexer": "ipython3",
   "version": "3.12.7"
  }
 },
 "nbformat": 4,
 "nbformat_minor": 5
}
